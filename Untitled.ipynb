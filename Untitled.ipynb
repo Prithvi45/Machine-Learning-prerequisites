{
 "cells": [
  {
   "cell_type": "code",
   "execution_count": 33,
   "metadata": {
    "collapsed": true
   },
   "outputs": [],
   "source": [
    "import pandas as pd"
   ]
  },
  {
   "cell_type": "code",
   "execution_count": 34,
   "metadata": {
    "collapsed": true
   },
   "outputs": [],
   "source": [
    "import matplotlib.pyplot as plt"
   ]
  },
  {
   "cell_type": "code",
   "execution_count": 35,
   "metadata": {
    "collapsed": true
   },
   "outputs": [],
   "source": [
    "df = pd.read_csv('C:\\Users\\omc\\Desktop\\Machine-Learning-prerequisites\\PopulationProjection2016.csv',index_col='State')"
   ]
  },
  {
   "cell_type": "code",
   "execution_count": 36,
   "metadata": {
    "collapsed": false
   },
   "outputs": [
    {
     "data": {
      "text/html": [
       "<div>\n",
       "<table border=\"1\" class=\"dataframe\">\n",
       "  <thead>\n",
       "    <tr style=\"text-align: right;\">\n",
       "      <th></th>\n",
       "      <th>Unnamed: 0</th>\n",
       "      <th>Male</th>\n",
       "      <th>Female</th>\n",
       "      <th>Total</th>\n",
       "      <th>Male .1</th>\n",
       "      <th>Female .1</th>\n",
       "      <th>Total.1</th>\n",
       "    </tr>\n",
       "    <tr>\n",
       "      <th>State</th>\n",
       "      <th></th>\n",
       "      <th></th>\n",
       "      <th></th>\n",
       "      <th></th>\n",
       "      <th></th>\n",
       "      <th></th>\n",
       "      <th></th>\n",
       "    </tr>\n",
       "  </thead>\n",
       "  <tbody>\n",
       "    <tr>\n",
       "      <th>Andaman &amp; Nicobar Islands</th>\n",
       "      <td>0</td>\n",
       "      <td>17547</td>\n",
       "      <td>17768</td>\n",
       "      <td>35315</td>\n",
       "      <td>11034</td>\n",
       "      <td>11198</td>\n",
       "      <td>22232</td>\n",
       "    </tr>\n",
       "    <tr>\n",
       "      <th>Andhra Pradesh</th>\n",
       "      <td>1</td>\n",
       "      <td>2165879</td>\n",
       "      <td>2032435</td>\n",
       "      <td>4198320</td>\n",
       "      <td>1309000</td>\n",
       "      <td>1229445</td>\n",
       "      <td>2538440</td>\n",
       "    </tr>\n",
       "    <tr>\n",
       "      <th>Arunachal Pradesh</th>\n",
       "      <td>2</td>\n",
       "      <td>88695</td>\n",
       "      <td>85828</td>\n",
       "      <td>174523</td>\n",
       "      <td>39439</td>\n",
       "      <td>38352</td>\n",
       "      <td>77791</td>\n",
       "    </tr>\n",
       "    <tr>\n",
       "      <th>Assam</th>\n",
       "      <td>3</td>\n",
       "      <td>1792270</td>\n",
       "      <td>1714270</td>\n",
       "      <td>3506540</td>\n",
       "      <td>944482</td>\n",
       "      <td>894428</td>\n",
       "      <td>1838910</td>\n",
       "    </tr>\n",
       "    <tr>\n",
       "      <th>Bihar</th>\n",
       "      <td>4</td>\n",
       "      <td>7834139</td>\n",
       "      <td>7183699</td>\n",
       "      <td>15017838</td>\n",
       "      <td>3654434</td>\n",
       "      <td>3076180</td>\n",
       "      <td>6730614</td>\n",
       "    </tr>\n",
       "  </tbody>\n",
       "</table>\n",
       "</div>"
      ],
      "text/plain": [
       "                           Unnamed: 0    Male   Female      Total  Male .1  \\\n",
       "State                                                                        \n",
       "Andaman & Nicobar Islands           0    17547    17768     35315    11034   \n",
       "Andhra Pradesh                      1  2165879  2032435   4198320  1309000   \n",
       "Arunachal Pradesh                   2    88695    85828    174523    39439   \n",
       "Assam                               3  1792270  1714270   3506540   944482   \n",
       "Bihar                               4  7834139  7183699  15017838  3654434   \n",
       "\n",
       "                           Female .1  Total.1  \n",
       "State                                          \n",
       "Andaman & Nicobar Islands      11198    22232  \n",
       "Andhra Pradesh               1229445  2538440  \n",
       "Arunachal Pradesh              38352    77791  \n",
       "Assam                         894428  1838910  \n",
       "Bihar                        3076180  6730614  "
      ]
     },
     "execution_count": 36,
     "metadata": {},
     "output_type": "execute_result"
    }
   ],
   "source": [
    "df.head()"
   ]
  },
  {
   "cell_type": "code",
   "execution_count": 37,
   "metadata": {
    "collapsed": false
   },
   "outputs": [],
   "source": [
    "del df['Unnamed: 0']"
   ]
  },
  {
   "cell_type": "code",
   "execution_count": 38,
   "metadata": {
    "collapsed": false
   },
   "outputs": [
    {
     "data": {
      "text/plain": [
       "<matplotlib.axes._subplots.AxesSubplot at 0xb70d5f8>"
      ]
     },
     "execution_count": 38,
     "metadata": {},
     "output_type": "execute_result"
    }
   ],
   "source": [
    "df.plot()"
   ]
  },
  {
   "cell_type": "code",
   "execution_count": 39,
   "metadata": {
    "collapsed": false,
    "scrolled": true
   },
   "outputs": [
    {
     "data": {
      "image/png": "[encoded data removed]",
      "text/plain": [
       "<matplotlib.figure.Figure at 0xb91e128>"
      ]
     },
     "metadata": {},
     "output_type": "display_data"
    }
   ],
   "source": [
    "plt.show()"
   ]
  },
  {
   "cell_type": "code",
   "execution_count": 40,
   "metadata": {
    "collapsed": false
   },
   "outputs": [
    {
     "data": {
      "text/html": [
       "<div>\n",
       "<table border=\"1\" class=\"dataframe\">\n",
       "  <thead>\n",
       "    <tr style=\"text-align: right;\">\n",
       "      <th></th>\n",
       "      <th>Male</th>\n",
       "      <th>Female</th>\n",
       "      <th>Total</th>\n",
       "      <th>Male .1</th>\n",
       "      <th>Female .1</th>\n",
       "      <th>Total.1</th>\n",
       "    </tr>\n",
       "    <tr>\n",
       "      <th>State</th>\n",
       "      <th></th>\n",
       "      <th></th>\n",
       "      <th></th>\n",
       "      <th></th>\n",
       "      <th></th>\n",
       "      <th></th>\n",
       "    </tr>\n",
       "  </thead>\n",
       "  <tbody>\n",
       "    <tr>\n",
       "      <th>Andaman &amp; Nicobar Islands</th>\n",
       "      <td>17547</td>\n",
       "      <td>17768</td>\n",
       "      <td>35315</td>\n",
       "      <td>11034</td>\n",
       "      <td>11198</td>\n",
       "      <td>22232</td>\n",
       "    </tr>\n",
       "    <tr>\n",
       "      <th>Andhra Pradesh</th>\n",
       "      <td>2165879</td>\n",
       "      <td>2032435</td>\n",
       "      <td>4198320</td>\n",
       "      <td>1309000</td>\n",
       "      <td>1229445</td>\n",
       "      <td>2538440</td>\n",
       "    </tr>\n",
       "    <tr>\n",
       "      <th>Arunachal Pradesh</th>\n",
       "      <td>88695</td>\n",
       "      <td>85828</td>\n",
       "      <td>174523</td>\n",
       "      <td>39439</td>\n",
       "      <td>38352</td>\n",
       "      <td>77791</td>\n",
       "    </tr>\n",
       "    <tr>\n",
       "      <th>Assam</th>\n",
       "      <td>1792270</td>\n",
       "      <td>1714270</td>\n",
       "      <td>3506540</td>\n",
       "      <td>944482</td>\n",
       "      <td>894428</td>\n",
       "      <td>1838910</td>\n",
       "    </tr>\n",
       "    <tr>\n",
       "      <th>Bihar</th>\n",
       "      <td>7834139</td>\n",
       "      <td>7183699</td>\n",
       "      <td>15017838</td>\n",
       "      <td>3654434</td>\n",
       "      <td>3076180</td>\n",
       "      <td>6730614</td>\n",
       "    </tr>\n",
       "  </tbody>\n",
       "</table>\n",
       "</div>"
      ],
      "text/plain": [
       "                             Male   Female      Total  Male .1  Female .1  \\\n",
       "State                                                                       \n",
       "Andaman & Nicobar Islands    17547    17768     35315    11034      11198   \n",
       "Andhra Pradesh             2165879  2032435   4198320  1309000    1229445   \n",
       "Arunachal Pradesh            88695    85828    174523    39439      38352   \n",
       "Assam                      1792270  1714270   3506540   944482     894428   \n",
       "Bihar                      7834139  7183699  15017838  3654434    3076180   \n",
       "\n",
       "                           Total.1  \n",
       "State                               \n",
       "Andaman & Nicobar Islands    22232  \n",
       "Andhra Pradesh             2538440  \n",
       "Arunachal Pradesh            77791  \n",
       "Assam                      1838910  \n",
       "Bihar                      6730614  "
      ]
     },
     "execution_count": 40,
     "metadata": {},
     "output_type": "execute_result"
    }
   ],
   "source": [
    "df.head()"
   ]
  },
  {
   "cell_type": "code",
   "execution_count": 41,
   "metadata": {
    "collapsed": false
   },
   "outputs": [
    {
     "data": {
      "text/plain": [
       "<matplotlib.axes._subplots.AxesSubplot at 0xba515c0>"
      ]
     },
     "execution_count": 41,
     "metadata": {},
     "output_type": "execute_result"
    }
   ],
   "source": [
    "df.plot(df['Male '])"
   ]
  },
  {
   "cell_type": "code",
   "execution_count": 42,
   "metadata": {
    "collapsed": false
   },
   "outputs": [
    {
     "data": {
      "image/png": "[encoded data removed]",
      "text/plain": [
       "<matplotlib.figure.Figure at 0xbbb66a0>"
      ]
     },
     "metadata": {},
     "output_type": "display_data"
    }
   ],
   "source": [
    "plt.show()"
   ]
  }
 ],
 "metadata": {
  "kernelspec": {
   "display_name": "Python 2",
   "language": "python",
   "name": "python2"
  },
  "language_info": {
   "codemirror_mode": {
    "name": "ipython",
    "version": 2
   },
   "file_extension": ".py",
   "mimetype": "text/x-python",
   "name": "python",
   "nbconvert_exporter": "python",
   "pygments_lexer": "ipython2",
   "version": "2.7.13"
  }
 },
 "nbformat": 4,
 "nbformat_minor": 2
}

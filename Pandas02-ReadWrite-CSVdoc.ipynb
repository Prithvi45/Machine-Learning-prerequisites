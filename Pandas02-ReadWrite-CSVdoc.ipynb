{
 "cells": [
  {
   "cell_type": "markdown",
   "metadata": {},
   "source": [
    "#Reading and Writing into csv"
   ]
  },
  {
   "cell_type": "code",
   "execution_count": 39,
   "metadata": {
    "collapsed": false
   },
   "outputs": [],
   "source": [
    "import pandas as pd\n",
    "from pandas import DataFrame\n",
    "import datetime\n"
   ]
  },
  {
   "cell_type": "code",
   "execution_count": 67,
   "metadata": {
    "collapsed": false
   },
   "outputs": [],
   "source": [
    "df = pd.read_excel('C:\\Users\\omc\\Desktop\\Machine-Learning-prerequisites\\PopulationProjection2016.xlsx')"
   ]
  },
  {
   "cell_type": "code",
   "execution_count": 68,
   "metadata": {
    "collapsed": false
   },
   "outputs": [
    {
     "data": {
      "text/html": [
       "<div>\n",
       "<table border=\"1\" class=\"dataframe\">\n",
       "  <thead>\n",
       "    <tr style=\"text-align: right;\">\n",
       "      <th></th>\n",
       "      <th>State</th>\n",
       "      <th>Male</th>\n",
       "      <th>Female</th>\n",
       "      <th>Total</th>\n",
       "      <th>Male .1</th>\n",
       "      <th>Female .1</th>\n",
       "      <th>Total.1</th>\n",
       "    </tr>\n",
       "  </thead>\n",
       "  <tbody>\n",
       "    <tr>\n",
       "      <th>1</th>\n",
       "      <td>Andaman &amp; Nicobar Islands</td>\n",
       "      <td>17547</td>\n",
       "      <td>17768</td>\n",
       "      <td>35315</td>\n",
       "      <td>11034</td>\n",
       "      <td>11198</td>\n",
       "      <td>22232</td>\n",
       "    </tr>\n",
       "    <tr>\n",
       "      <th>2</th>\n",
       "      <td>Andhra Pradesh</td>\n",
       "      <td>2165879</td>\n",
       "      <td>2032435</td>\n",
       "      <td>4198320</td>\n",
       "      <td>1309000</td>\n",
       "      <td>1229445</td>\n",
       "      <td>2538440</td>\n",
       "    </tr>\n",
       "    <tr>\n",
       "      <th>3</th>\n",
       "      <td>Arunachal Pradesh</td>\n",
       "      <td>88695</td>\n",
       "      <td>85828</td>\n",
       "      <td>174523</td>\n",
       "      <td>39439</td>\n",
       "      <td>38352</td>\n",
       "      <td>77791</td>\n",
       "    </tr>\n",
       "    <tr>\n",
       "      <th>4</th>\n",
       "      <td>Assam</td>\n",
       "      <td>1792270</td>\n",
       "      <td>1714270</td>\n",
       "      <td>3506540</td>\n",
       "      <td>944482</td>\n",
       "      <td>894428</td>\n",
       "      <td>1838910</td>\n",
       "    </tr>\n",
       "    <tr>\n",
       "      <th>5</th>\n",
       "      <td>Bihar</td>\n",
       "      <td>7834139</td>\n",
       "      <td>7183699</td>\n",
       "      <td>15017838</td>\n",
       "      <td>3654434</td>\n",
       "      <td>3076180</td>\n",
       "      <td>6730614</td>\n",
       "    </tr>\n",
       "  </tbody>\n",
       "</table>\n",
       "</div>"
      ],
      "text/plain": [
       "                       State    Male   Female      Total  Male .1  Female .1  \\\n",
       "1  Andaman & Nicobar Islands    17547    17768     35315    11034      11198   \n",
       "2             Andhra Pradesh  2165879  2032435   4198320  1309000    1229445   \n",
       "3          Arunachal Pradesh    88695    85828    174523    39439      38352   \n",
       "4                      Assam  1792270  1714270   3506540   944482     894428   \n",
       "5                      Bihar  7834139  7183699  15017838  3654434    3076180   \n",
       "\n",
       "   Total.1  \n",
       "1    22232  \n",
       "2  2538440  \n",
       "3    77791  \n",
       "4  1838910  \n",
       "5  6730614  "
      ]
     },
     "execution_count": 68,
     "metadata": {},
     "output_type": "execute_result"
    }
   ],
   "source": [
    "df.head()"
   ]
  },
  {
   "cell_type": "code",
   "execution_count": 69,
   "metadata": {
    "collapsed": true
   },
   "outputs": [],
   "source": [
    "df.to_csv('C:\\Users\\omc\\Desktop\\Machine-Learning-prerequisites\\PopulationProjection2016.csv')"
   ]
  },
  {
   "cell_type": "code",
   "execution_count": 70,
   "metadata": {
    "collapsed": true
   },
   "outputs": [],
   "source": [
    "df_new = pd.read_csv('C:\\Users\\omc\\Desktop\\Machine-Learning-prerequisites\\PopulationProjection2016.csv')"
   ]
  },
  {
   "cell_type": "code",
   "execution_count": 71,
   "metadata": {
    "collapsed": false
   },
   "outputs": [
    {
     "data": {
      "text/html": [
       "<div>\n",
       "<table border=\"1\" class=\"dataframe\">\n",
       "  <thead>\n",
       "    <tr style=\"text-align: right;\">\n",
       "      <th></th>\n",
       "      <th>Unnamed: 0</th>\n",
       "      <th>State</th>\n",
       "      <th>Male</th>\n",
       "      <th>Female</th>\n",
       "      <th>Total</th>\n",
       "      <th>Male .1</th>\n",
       "      <th>Female .1</th>\n",
       "      <th>Total.1</th>\n",
       "    </tr>\n",
       "  </thead>\n",
       "  <tbody>\n",
       "    <tr>\n",
       "      <th>0</th>\n",
       "      <td>1</td>\n",
       "      <td>Andaman &amp; Nicobar Islands</td>\n",
       "      <td>17547</td>\n",
       "      <td>17768</td>\n",
       "      <td>35315</td>\n",
       "      <td>11034</td>\n",
       "      <td>11198</td>\n",
       "      <td>22232</td>\n",
       "    </tr>\n",
       "    <tr>\n",
       "      <th>1</th>\n",
       "      <td>2</td>\n",
       "      <td>Andhra Pradesh</td>\n",
       "      <td>2165879</td>\n",
       "      <td>2032435</td>\n",
       "      <td>4198320</td>\n",
       "      <td>1309000</td>\n",
       "      <td>1229445</td>\n",
       "      <td>2538440</td>\n",
       "    </tr>\n",
       "    <tr>\n",
       "      <th>2</th>\n",
       "      <td>3</td>\n",
       "      <td>Arunachal Pradesh</td>\n",
       "      <td>88695</td>\n",
       "      <td>85828</td>\n",
       "      <td>174523</td>\n",
       "      <td>39439</td>\n",
       "      <td>38352</td>\n",
       "      <td>77791</td>\n",
       "    </tr>\n",
       "    <tr>\n",
       "      <th>3</th>\n",
       "      <td>4</td>\n",
       "      <td>Assam</td>\n",
       "      <td>1792270</td>\n",
       "      <td>1714270</td>\n",
       "      <td>3506540</td>\n",
       "      <td>944482</td>\n",
       "      <td>894428</td>\n",
       "      <td>1838910</td>\n",
       "    </tr>\n",
       "    <tr>\n",
       "      <th>4</th>\n",
       "      <td>5</td>\n",
       "      <td>Bihar</td>\n",
       "      <td>7834139</td>\n",
       "      <td>7183699</td>\n",
       "      <td>15017838</td>\n",
       "      <td>3654434</td>\n",
       "      <td>3076180</td>\n",
       "      <td>6730614</td>\n",
       "    </tr>\n",
       "  </tbody>\n",
       "</table>\n",
       "</div>"
      ],
      "text/plain": [
       "   Unnamed: 0                      State    Male   Female      Total  Male .1  \\\n",
       "0           1  Andaman & Nicobar Islands    17547    17768     35315    11034   \n",
       "1           2             Andhra Pradesh  2165879  2032435   4198320  1309000   \n",
       "2           3          Arunachal Pradesh    88695    85828    174523    39439   \n",
       "3           4                      Assam  1792270  1714270   3506540   944482   \n",
       "4           5                      Bihar  7834139  7183699  15017838  3654434   \n",
       "\n",
       "   Female .1  Total.1  \n",
       "0      11198    22232  \n",
       "1    1229445  2538440  \n",
       "2      38352    77791  \n",
       "3     894428  1838910  \n",
       "4    3076180  6730614  "
      ]
     },
     "execution_count": 71,
     "metadata": {},
     "output_type": "execute_result"
    }
   ],
   "source": [
    "df_new.head()"
   ]
  }
 ],
 "metadata": {
  "kernelspec": {
   "display_name": "Python 2",
   "language": "python",
   "name": "python2"
  },
  "language_info": {
   "codemirror_mode": {
    "name": "ipython",
    "version": 2
   },
   "file_extension": ".py",
   "mimetype": "text/x-python",
   "name": "python",
   "nbconvert_exporter": "python",
   "pygments_lexer": "ipython2",
   "version": "2.7.13"
  }
 },
 "nbformat": 4,
 "nbformat_minor": 2
}

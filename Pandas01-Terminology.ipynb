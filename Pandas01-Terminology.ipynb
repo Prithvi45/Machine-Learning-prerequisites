{
 "cells": [
  {
   "cell_type": "markdown",
   "metadata": {},
   "source": [
    "# Pandas"
   ]
  },
  {
   "cell_type": "markdown",
   "metadata": {},
   "source": [
    "A python library for Data analysis, manipulation and visualization\n",
    "Terminologies"
   ]
  },
  {
   "cell_type": "markdown",
   "metadata": {},
   "source": [
    "1. Series: \n",
    "-Its 1D numpy like Array\n",
    "-You can put any python datatype in there\n",
    "-You can do any vectorized operations\n",
    "-Its like Dictonary\n",
    "-Generally Series is denoted as s i.e, s = Series\n",
    "\n",
    "2.DataFrames:\n",
    "-Its 2D numpy like Array\n",
    "-You can put any python datatype in there\n",
    "-You can do any vectorized operations\n",
    "-Its like Dictonary , df['cloumn1']  accessing column1\n",
    "-Generally Series is denoted as df\n",
    "\n",
    "3.Index:\n",
    "-Label for rows \n",
    "-what the data is associated with \n",
    "\n",
    "4.Slicing:\n",
    "-selecting data\n",
    "\n",
    "5.Other operations:\n",
    "-moving columns/ reorganize\n",
    "-moving avg mean \n",
    "-standard deviation\n",
    "-Graphing is super simple\n",
    "-you can use matplotlib"
   ]
  },
  {
   "cell_type": "code",
   "execution_count": null,
   "metadata": {
    "collapsed": true
   },
   "outputs": [],
   "source": []
  }
 ],
 "metadata": {
  "kernelspec": {
   "display_name": "Python 2",
   "language": "python",
   "name": "python2"
  },
  "language_info": {
   "codemirror_mode": {
    "name": "ipython",
    "version": 2
   },
   "file_extension": ".py",
   "mimetype": "text/x-python",
   "name": "python",
   "nbconvert_exporter": "python",
   "pygments_lexer": "ipython2",
   "version": "2.7.13"
  }
 },
 "nbformat": 4,
 "nbformat_minor": 2
}
